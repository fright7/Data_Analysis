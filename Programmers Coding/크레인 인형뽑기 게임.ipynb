{
 "cells": [
  {
   "cell_type": "code",
   "execution_count": 33,
   "metadata": {},
   "outputs": [],
   "source": [
    "def solution(board,moves):\n",
    "    \n",
    "    list_move = list(map(lambda x : x-1,moves))\n",
    "    pack = []\n",
    "    \n",
    "    for i in list_move:\n",
    "        \n",
    "               \n",
    "        for j in range(len(board[i])):\n",
    "            \n",
    "            if board[j][i] != 0:\n",
    "                              \n",
    "                pack.append(board[j][i])\n",
    "                board[j][i] = 0\n",
    "                break;\n",
    "    \n",
    "    loop = True\n",
    "    count = 0\n",
    "    count_list = []\n",
    "    while loop:\n",
    "    \n",
    "        _len = len(pack)\n",
    "    \n",
    "        count_list.append(count)\n",
    "           \n",
    "        \n",
    "        for i in range(_len-1):\n",
    "        \n",
    "            if pack[i] == pack[i+1]:\n",
    "            \n",
    "                del pack[i:i+2]\n",
    "                count += 1\n",
    "                break\n",
    "        \n",
    "        if count_list[-1] == count:\n",
    "        \n",
    "            loop = False\n",
    "        \n",
    "                \n",
    "    return count*2"
   ]
  }
 ],
 "metadata": {
  "kernelspec": {
   "display_name": "Python 3",
   "language": "python",
   "name": "python3"
  },
  "language_info": {
   "codemirror_mode": {
    "name": "ipython",
    "version": 3
   },
   "file_extension": ".py",
   "mimetype": "text/x-python",
   "name": "python",
   "nbconvert_exporter": "python",
   "pygments_lexer": "ipython3",
   "version": "3.7.4"
  }
 },
 "nbformat": 4,
 "nbformat_minor": 2
}
