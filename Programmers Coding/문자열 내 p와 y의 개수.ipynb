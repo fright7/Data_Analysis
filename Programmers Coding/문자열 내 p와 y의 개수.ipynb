{
 "cells": [
  {
   "cell_type": "code",
   "execution_count": 36,
   "metadata": {},
   "outputs": [],
   "source": [
    "def solution(x):\n",
    "    \n",
    "    num_p = 0\n",
    "    num_y = 0\n",
    "    \n",
    "    for i in range(len(x)):\n",
    "        \n",
    "        if x[i] == \"P\":\n",
    "            num_p += 1\n",
    "        elif x[i] == \"p\":\n",
    "            num_p += 1\n",
    "        elif x[i] == \"Y\":\n",
    "            num_y += 1\n",
    "        elif x[i] == \"y\":\n",
    "            num_y += 1\n",
    "            \n",
    "    \n",
    "    if num_p == num_y:\n",
    "        return True\n",
    "    elif (num_p==0 and num_y==0):\n",
    "        return True\n",
    "    \n",
    "    else:\n",
    "        return False"
   ]
  },
  {
   "cell_type": "code",
   "execution_count": 40,
   "metadata": {},
   "outputs": [
    {
     "data": {
      "text/plain": [
       "True"
      ]
     },
     "execution_count": 40,
     "metadata": {},
     "output_type": "execute_result"
    }
   ],
   "source": [
    "solution(\"PPYY\")"
   ]
  },
  {
   "cell_type": "code",
   "execution_count": null,
   "metadata": {},
   "outputs": [],
   "source": []
  }
 ],
 "metadata": {
  "kernelspec": {
   "display_name": "Python 3",
   "language": "python",
   "name": "python3"
  },
  "language_info": {
   "codemirror_mode": {
    "name": "ipython",
    "version": 3
   },
   "file_extension": ".py",
   "mimetype": "text/x-python",
   "name": "python",
   "nbconvert_exporter": "python",
   "pygments_lexer": "ipython3",
   "version": "3.7.4"
  }
 },
 "nbformat": 4,
 "nbformat_minor": 2
}
