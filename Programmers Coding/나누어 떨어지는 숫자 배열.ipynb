{
 "cells": [
  {
   "cell_type": "code",
   "execution_count": 23,
   "metadata": {},
   "outputs": [],
   "source": [
    "def solution(arr,div):\n",
    "    \n",
    "    result = []\n",
    "    \n",
    "    for i in arr:\n",
    "        \n",
    "        if i % div == 0:\n",
    "            \n",
    "            result.append(i)\n",
    "    \n",
    "    for i in range(len(arr)-1):\n",
    "        \n",
    "        for j in range(i+1,len(result)):\n",
    "            \n",
    "            if result[i] > result[j]:\n",
    "                \n",
    "                result[i], result[j] = result[j], result[i]\n",
    "                \n",
    "    if len(result) == 0:\n",
    "        \n",
    "        return [-1]\n",
    "    else:\n",
    "        \n",
    "        return result\n",
    "    "
   ]
  },
  {
   "cell_type": "code",
   "execution_count": 26,
   "metadata": {},
   "outputs": [
    {
     "data": {
      "text/plain": [
       "[3]"
      ]
     },
     "execution_count": 26,
     "metadata": {},
     "output_type": "execute_result"
    }
   ],
   "source": [
    "solution([1,3,1,1],3)"
   ]
  },
  {
   "cell_type": "code",
   "execution_count": null,
   "metadata": {},
   "outputs": [],
   "source": []
  }
 ],
 "metadata": {
  "kernelspec": {
   "display_name": "Python 3",
   "language": "python",
   "name": "python3"
  },
  "language_info": {
   "codemirror_mode": {
    "name": "ipython",
    "version": 3
   },
   "file_extension": ".py",
   "mimetype": "text/x-python",
   "name": "python",
   "nbconvert_exporter": "python",
   "pygments_lexer": "ipython3",
   "version": "3.7.4"
  }
 },
 "nbformat": 4,
 "nbformat_minor": 2
}
