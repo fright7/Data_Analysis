{
 "cells": [
  {
   "cell_type": "code",
   "execution_count": 25,
   "metadata": {},
   "outputs": [],
   "source": [
    "def solution(x):\n",
    "    \n",
    "    asc = []\n",
    "    \n",
    "    for i in x:\n",
    "        \n",
    "        asc2 = ord(i)\n",
    "        \n",
    "        asc.append(asc2)\n",
    "    \n",
    "    \n",
    "    \n",
    "    \n",
    "    for i in range(len(asc)):\n",
    "        \n",
    "        for j in range(i+1,len(asc)):\n",
    "            \n",
    "            if asc[i] < asc[j]:\n",
    "                \n",
    "                n1 = asc[i]\n",
    "                \n",
    "                asc[i] = asc[j]\n",
    "                asc[j] = n1\n",
    "    \n",
    "    asc3 = list(map(lambda x : chr(x),asc))\n",
    "    \n",
    "    char = \"\"\n",
    "    \n",
    "    for i in range(len(asc3)):\n",
    "        \n",
    "        char += asc3[i]\n",
    "        \n",
    "    return char"
   ]
  },
  {
   "cell_type": "code",
   "execution_count": 27,
   "metadata": {},
   "outputs": [
    {
     "data": {
      "text/plain": [
       "'gfedcbZ'"
      ]
     },
     "execution_count": 27,
     "metadata": {},
     "output_type": "execute_result"
    }
   ],
   "source": [
    "solution(\"Zbcdefg\")"
   ]
  },
  {
   "cell_type": "code",
   "execution_count": null,
   "metadata": {},
   "outputs": [],
   "source": []
  }
 ],
 "metadata": {
  "kernelspec": {
   "display_name": "Python 3",
   "language": "python",
   "name": "python3"
  },
  "language_info": {
   "codemirror_mode": {
    "name": "ipython",
    "version": 3
   },
   "file_extension": ".py",
   "mimetype": "text/x-python",
   "name": "python",
   "nbconvert_exporter": "python",
   "pygments_lexer": "ipython3",
   "version": "3.7.4"
  }
 },
 "nbformat": 4,
 "nbformat_minor": 2
}
