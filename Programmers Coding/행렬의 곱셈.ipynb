{
 "cells": [
  {
   "cell_type": "code",
   "execution_count": 36,
   "metadata": {},
   "outputs": [],
   "source": [
    "def solution(l1, l2):\n",
    "    \n",
    "    l3 = [[0 for col in range(len(l2[0]))] for row in range(len(l1))]\n",
    "    \n",
    "    for i in range(len(l1)):\n",
    "    \n",
    "        for j in range(len(l2[0])):\n",
    "        \n",
    "            mu=0\n",
    "        \n",
    "            for k in range(len(l1[0])):\n",
    "            \n",
    "                mu+=l1[i][k]*l2[k][j]\n",
    "        \n",
    "            l3[i][j] = mu\n",
    "    \n",
    "    return l3"
   ]
  }
 ],
 "metadata": {
  "kernelspec": {
   "display_name": "Python 3",
   "language": "python",
   "name": "python3"
  },
  "language_info": {
   "codemirror_mode": {
    "name": "ipython",
    "version": 3
   },
   "file_extension": ".py",
   "mimetype": "text/x-python",
   "name": "python",
   "nbconvert_exporter": "python",
   "pygments_lexer": "ipython3",
   "version": "3.7.4"
  }
 },
 "nbformat": 4,
 "nbformat_minor": 2
}
