{
 "cells": [
  {
   "cell_type": "code",
   "execution_count": 29,
   "metadata": {},
   "outputs": [],
   "source": [
    "def solution(d,budget):\n",
    "    \n",
    "    for i in range(len(d)-1):\n",
    "        \n",
    "        for j in range(i+1,len(d)):\n",
    "            \n",
    "            if d[i] > d[j]:\n",
    "                \n",
    "                d[i],d[j] = d[j],d[i]\n",
    "                \n",
    "    \n",
    "    _sum = 0\n",
    "    _result = 0\n",
    "    \n",
    "    for i in d:\n",
    "        \n",
    "        _sum += i\n",
    "        \n",
    "        if _sum > budget:\n",
    "            \n",
    "            break\n",
    "            \n",
    "        else:\n",
    "            \n",
    "            _result += 1\n",
    "            \n",
    "        \n",
    "    return _result"
   ]
  },
  {
   "cell_type": "code",
   "execution_count": 30,
   "metadata": {},
   "outputs": [
    {
     "name": "stdout",
     "output_type": "stream",
     "text": [
      "s\n",
      "s\n",
      "s\n"
     ]
    },
    {
     "data": {
      "text/plain": [
       "3"
      ]
     },
     "execution_count": 30,
     "metadata": {},
     "output_type": "execute_result"
    }
   ],
   "source": [
    "solution([1,3,2,5,4],9)"
   ]
  },
  {
   "cell_type": "code",
   "execution_count": null,
   "metadata": {},
   "outputs": [],
   "source": []
  }
 ],
 "metadata": {
  "kernelspec": {
   "display_name": "Python 3",
   "language": "python",
   "name": "python3"
  },
  "language_info": {
   "codemirror_mode": {
    "name": "ipython",
    "version": 3
   },
   "file_extension": ".py",
   "mimetype": "text/x-python",
   "name": "python",
   "nbconvert_exporter": "python",
   "pygments_lexer": "ipython3",
   "version": "3.7.4"
  }
 },
 "nbformat": 4,
 "nbformat_minor": 2
}
