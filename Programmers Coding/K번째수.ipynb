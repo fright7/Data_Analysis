{
 "cells": [
  {
   "cell_type": "code",
   "execution_count": 38,
   "metadata": {},
   "outputs": [],
   "source": [
    "def solution(array,commands):\n",
    "    \n",
    "    result = []\n",
    "    \n",
    "    for i in range(len(commands)):\n",
    "        \n",
    "        _list = []\n",
    "        \n",
    "        for j in commands[i]:\n",
    "            \n",
    "            _list.append(j)\n",
    "            \n",
    "        start = _list[0]-1\n",
    "        end = _list[1]-1\n",
    "        slice_value = _list[2]-1\n",
    "        \n",
    "        slice_list = array[start:end+1]\n",
    "        \n",
    "        \n",
    "        if len(slice_list) == 1:\n",
    "            \n",
    "            result.append(slice_list[0])\n",
    "            \n",
    "        else:\n",
    "            \n",
    "            for i in range(len(slice_list)-1):\n",
    "                \n",
    "                for j in range(i+1,len(slice_list)):\n",
    "                    \n",
    "                    if slice_list[i] > slice_list[j]:\n",
    "                        \n",
    "                        slice_list[i],slice_list[j] = slice_list[j],slice_list[i]\n",
    "            \n",
    "            result.append(slice_list[slice_value])\n",
    "        \n",
    "        \n",
    "        \n",
    "            \n",
    "    return result"
   ]
  },
  {
   "cell_type": "code",
   "execution_count": 39,
   "metadata": {},
   "outputs": [
    {
     "data": {
      "text/plain": [
       "[5, 6, 3]"
      ]
     },
     "execution_count": 39,
     "metadata": {},
     "output_type": "execute_result"
    }
   ],
   "source": [
    "solution([1, 5, 2, 6, 3, 7, 4],[[2, 5, 3], [4, 4, 1], [1, 7, 3]])"
   ]
  }
 ],
 "metadata": {
  "kernelspec": {
   "display_name": "Python 3",
   "language": "python",
   "name": "python3"
  },
  "language_info": {
   "codemirror_mode": {
    "name": "ipython",
    "version": 3
   },
   "file_extension": ".py",
   "mimetype": "text/x-python",
   "name": "python",
   "nbconvert_exporter": "python",
   "pygments_lexer": "ipython3",
   "version": "3.7.4"
  }
 },
 "nbformat": 4,
 "nbformat_minor": 2
}
