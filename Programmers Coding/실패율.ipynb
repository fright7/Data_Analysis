{
 "cells": [
  {
   "cell_type": "code",
   "execution_count": 82,
   "metadata": {},
   "outputs": [],
   "source": [
    "def solution(N,stages):\n",
    "    \n",
    "    result = []\n",
    "    solution = []\n",
    "    \n",
    "    for i in range(1,N+1):\n",
    "        \n",
    "        denom = 0\n",
    "        nom = 0\n",
    "        \n",
    "        for j in stages:\n",
    "            \n",
    "                        \n",
    "            if j >= i:\n",
    "                \n",
    "                denom += 1\n",
    "            \n",
    "            if j == i:\n",
    "                \n",
    "                nom += 1\n",
    "            \n",
    "        try:\n",
    "            result_tuple = (i,nom/denom)\n",
    "        \n",
    "        except:\n",
    "            result_tuple = (i,0)\n",
    "            \n",
    "        result.append(result_tuple)\n",
    "        \n",
    "        \n",
    "\n",
    "           \n",
    "    for i in range(len(result)-1):\n",
    "        \n",
    "        for j in range(i+1,len(result)):\n",
    "            \n",
    "            if result[j][1] > result[i][1]:\n",
    "                \n",
    "                result[i],result[j] = result[j],result[i]\n",
    "                \n",
    "            if result[j][1] == result[i][1]:\n",
    "                \n",
    "                if result[j][0] < result[i][0]:\n",
    "                    \n",
    "                    result[i],result[j] = result[j],result[i]\n",
    "             \n",
    "    for i in range(len(result)):\n",
    "        \n",
    "        solution.append(result[i][0])\n",
    "        \n",
    "    return solution"
   ]
  },
  {
   "cell_type": "code",
   "execution_count": 94,
   "metadata": {},
   "outputs": [],
   "source": [
    "def solution2(N, stages):\n",
    "    result = {}\n",
    "    denominator = len(stages)\n",
    "    for stage in range(1, N+1):\n",
    "        if denominator != 0:\n",
    "            count = stages.count(stage)\n",
    "            result[stage] = count / denominator\n",
    "            denominator -= count\n",
    "            \n",
    "            print(denominator)\n",
    "            \n",
    "        else:\n",
    "            result[stage] = 0\n",
    "    return sorted(result, key=lambda x : result[x], reverse=True)\n"
   ]
  }
 ],
 "metadata": {
  "kernelspec": {
   "display_name": "Python 3",
   "language": "python",
   "name": "python3"
  },
  "language_info": {
   "codemirror_mode": {
    "name": "ipython",
    "version": 3
   },
   "file_extension": ".py",
   "mimetype": "text/x-python",
   "name": "python",
   "nbconvert_exporter": "python",
   "pygments_lexer": "ipython3",
   "version": "3.7.4"
  }
 },
 "nbformat": 4,
 "nbformat_minor": 2
}
