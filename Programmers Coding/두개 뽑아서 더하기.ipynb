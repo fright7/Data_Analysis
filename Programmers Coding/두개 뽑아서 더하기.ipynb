{
 "cells": [
  {
   "cell_type": "code",
   "execution_count": 7,
   "metadata": {},
   "outputs": [],
   "source": [
    "def solution(numbers):\n",
    "    \n",
    "    result = []\n",
    "    \n",
    "    for i in range(len(numbers)):\n",
    "        \n",
    "        for j in range(i+1,len(numbers)):\n",
    "            \n",
    "            n1 = numbers[i]+numbers[j]\n",
    "            \n",
    "            if n1 not in result:\n",
    "                \n",
    "                result.append(n1)\n",
    "                \n",
    "    for i in range(len(result)):\n",
    "        \n",
    "        for j in range(i+1,len(result)):\n",
    "            \n",
    "            if result[i] > result[j]:\n",
    "                \n",
    "                n1 = result[i]\n",
    "                \n",
    "                result[i] = result[j]\n",
    "                \n",
    "                result[j] = n1\n",
    "                \n",
    "                \n",
    "                \n",
    "    return result\n",
    "            \n",
    "            "
   ]
  },
  {
   "cell_type": "code",
   "execution_count": 8,
   "metadata": {},
   "outputs": [
    {
     "data": {
      "text/plain": [
       "[2, 3, 4, 5, 6, 7]"
      ]
     },
     "execution_count": 8,
     "metadata": {},
     "output_type": "execute_result"
    }
   ],
   "source": [
    "solution([2,1,3,4,1])"
   ]
  },
  {
   "cell_type": "code",
   "execution_count": null,
   "metadata": {},
   "outputs": [],
   "source": []
  }
 ],
 "metadata": {
  "kernelspec": {
   "display_name": "Python 3",
   "language": "python",
   "name": "python3"
  },
  "language_info": {
   "codemirror_mode": {
    "name": "ipython",
    "version": 3
   },
   "file_extension": ".py",
   "mimetype": "text/x-python",
   "name": "python",
   "nbconvert_exporter": "python",
   "pygments_lexer": "ipython3",
   "version": "3.7.4"
  }
 },
 "nbformat": 4,
 "nbformat_minor": 2
}
