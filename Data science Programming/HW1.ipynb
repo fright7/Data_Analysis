{
 "cells": [
  {
   "cell_type": "code",
   "execution_count": 1,
   "metadata": {},
   "outputs": [],
   "source": [
    "class sorting:\n",
    "    def __init__(self):\n",
    "        self.list = []\n",
    "        self.input = 0\n",
    "        \n",
    "    def add_n_sort(self,x):\n",
    "        self.list.append(x)\n",
    "        self.input = x\n",
    "        \n",
    "        for i in range(len(self.list)):\n",
    "            for j in range(i+1,len(self.list)):\n",
    "                n1=0\n",
    "                if self.list[i] < self.list[j]:\n",
    "                    n1 = self.list[i]\n",
    "                    self.list[i] = self.list[j]\n",
    "                    self.list[j] = n1\n",
    "        \n",
    "        return self.list\n",
    "    \n",
    "   \n",
    "\n",
    "\n",
    "    def print_loc(self):\n",
    "        \n",
    "        n=0\n",
    "        for i in range(len(self.list)):\n",
    "            if self.list[i] == self.input:\n",
    "                \n",
    "                n = i\n",
    "                \n",
    "        return n"
   ]
  },
  {
   "cell_type": "code",
   "execution_count": 2,
   "metadata": {},
   "outputs": [],
   "source": [
    "a = sorting()"
   ]
  },
  {
   "cell_type": "code",
   "execution_count": 3,
   "metadata": {},
   "outputs": [
    {
     "data": {
      "text/plain": [
       "[2]"
      ]
     },
     "execution_count": 3,
     "metadata": {},
     "output_type": "execute_result"
    }
   ],
   "source": [
    "a.add_n_sort(2)"
   ]
  },
  {
   "cell_type": "code",
   "execution_count": 4,
   "metadata": {},
   "outputs": [
    {
     "data": {
      "text/plain": [
       "[5, 2]"
      ]
     },
     "execution_count": 4,
     "metadata": {},
     "output_type": "execute_result"
    }
   ],
   "source": [
    "a.add_n_sort(5)"
   ]
  },
  {
   "cell_type": "code",
   "execution_count": null,
   "metadata": {},
   "outputs": [],
   "source": []
  }
 ],
 "metadata": {
  "kernelspec": {
   "display_name": "Python 3",
   "language": "python",
   "name": "python3"
  },
  "language_info": {
   "codemirror_mode": {
    "name": "ipython",
    "version": 3
   },
   "file_extension": ".py",
   "mimetype": "text/x-python",
   "name": "python",
   "nbconvert_exporter": "python",
   "pygments_lexer": "ipython3",
   "version": "3.7.4"
  }
 },
 "nbformat": 4,
 "nbformat_minor": 2
}
